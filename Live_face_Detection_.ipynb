{
  "nbformat": 4,
  "nbformat_minor": 0,
  "metadata": {
    "colab": {
      "provenance": [],
      "gpuType": "T4",
      "authorship_tag": "ABX9TyM6/H7TStHYWLCG8YLL0Cq3",
      "include_colab_link": true
    },
    "kernelspec": {
      "name": "python3",
      "display_name": "Python 3"
    },
    "language_info": {
      "name": "python"
    }
  },
  "cells": [
    {
      "cell_type": "markdown",
      "metadata": {
        "id": "view-in-github",
        "colab_type": "text"
      },
      "source": [
        "<a href=\"https://colab.research.google.com/github/RaoMasood1/live_face_detection/blob/main/Live_face_Detection_.ipynb\" target=\"_parent\"><img src=\"https://colab.research.google.com/assets/colab-badge.svg\" alt=\"Open In Colab\"/></a>"
      ]
    },
    {
      "cell_type": "code",
      "source": [
        "# Request webcam access permission\n",
        "from google.colab import output\n",
        "from google.colab.patches import cv2_imshow\n",
        "\n",
        "def request_webcam_permission():\n",
        "    js = \"\"\"\n",
        "    const videoElement = document.createElement('video');\n",
        "    videoElement.style.display = 'none';\n",
        "    document.body.appendChild(videoElement);\n",
        "\n",
        "    navigator.mediaDevices.getUserMedia({ video: true })\n",
        "      .then(stream => {\n",
        "        videoElement.srcObject = stream;\n",
        "        videoElement.onloadedmetadata = () => {\n",
        "          videoElement.play();\n",
        "          google.colab.kernel.invokeFunction('notebook.request_webcam_permission', [], {});\n",
        "        };\n",
        "      })\n",
        "      .catch(err => console.error('Webcam permission denied:', err));\n",
        "    \"\"\"\n",
        "    output.register_callback('notebook.request_webcam_permission', lambda _: None)\n",
        "    output.eval_js(js)\n",
        "\n",
        "request_webcam_permission()\n"
      ],
      "metadata": {
        "id": "GJyD-Jrmx4hF"
      },
      "execution_count": null,
      "outputs": []
    },
    {
      "cell_type": "code",
      "source": [
        "import cv2\n",
        "import matplotlib.pyplot as plt\n",
        "from matplotlib import patches\n",
        "\n",
        "# Load the pre-trained face detection cascade\n",
        "face_cascade = cv2.CascadeClassifier(cv2.data.haarcascades + 'haarcascade_frontalface_default.xml')\n",
        "\n",
        "# Start capturing video from the webcam\n",
        "cap = cv2.VideoCapture(0)\n",
        "\n",
        "while True:\n",
        "    # Read a frame from the webcam\n",
        "    ret, frame = cap.read()\n",
        "\n",
        "    if not ret:\n",
        "        break\n",
        "\n",
        "    # Convert the frame to grayscale\n",
        "    gray = cv2.cvtColor(frame, cv2.COLOR_BGR2GRAY)\n",
        "\n",
        "    # Detect faces in the grayscale frame\n",
        "    faces = face_cascade.detectMultiScale(gray, scaleFactor=1.1, minNeighbors=5, minSize=(30, 30))\n",
        "\n",
        "    # Create a figure and axis for displaying the image\n",
        "    fig, ax = plt.subplots(1, figsize=(10, 6))\n",
        "\n",
        "    # Display the frame with detected faces using matplotlib\n",
        "    ax.imshow(cv2.cvtColor(frame, cv2.COLOR_BGR2RGB))\n",
        "\n",
        "    # Draw rectangles around the detected faces\n",
        "    for (x, y, w, h) in faces:\n",
        "        face_rect = patches.Rectangle((x, y), w, h, linewidth=2, edgecolor='g', facecolor='none')\n",
        "        ax.add_patch(face_rect)\n",
        "\n",
        "    # Remove axis ticks and labels\n",
        "    ax.axis('off')\n",
        "\n",
        "    # Show the plot\n",
        "    plt.show()\n",
        "\n",
        "    # Close the current figure to avoid memory leaks\n",
        "    plt.close(fig)\n",
        "\n",
        "    # Exit the loop if 'q' is pressed\n",
        "    if cv2.waitKey(1) & 0xFF == ord('q'):\n",
        "        break\n",
        "\n"
      ],
      "metadata": {
        "id": "kzGBm_luyLmZ"
      },
      "execution_count": null,
      "outputs": []
    },
    {
      "cell_type": "code",
      "source": [
        "# Release the webcam and close all windows\n",
        "cap.release()\n",
        "cv2.destroyAllWindows()\n"
      ],
      "metadata": {
        "id": "EjXsDnYay-i0"
      },
      "execution_count": null,
      "outputs": []
    }
  ]
}